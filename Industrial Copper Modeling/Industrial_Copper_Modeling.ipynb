{
 "cells": [
  {
   "cell_type": "markdown",
   "id": "b0a168a4",
   "metadata": {},
   "source": [
    "# Industrial Copper Modeling"
   ]
  },
  {
   "cell_type": "markdown",
   "id": "b04e3999",
   "metadata": {},
   "source": [
    "## Packages"
   ]
  },
  {
   "cell_type": "code",
   "execution_count": 1,
   "id": "5bcd3c63",
   "metadata": {},
   "outputs": [
    {
     "name": "stdout",
     "output_type": "stream",
     "text": [
      "Requirement already satisfied: joblib in /Users/santhoshsivansundaramoorthy/anaconda3/lib/python3.11/site-packages (1.2.0)\n",
      "Requirement already satisfied: pandas in /Users/santhoshsivansundaramoorthy/anaconda3/lib/python3.11/site-packages (2.0.3)\n",
      "Requirement already satisfied: matplotlib in /Users/santhoshsivansundaramoorthy/anaconda3/lib/python3.11/site-packages (3.7.2)\n",
      "Requirement already satisfied: seaborn in /Users/santhoshsivansundaramoorthy/anaconda3/lib/python3.11/site-packages (0.12.2)\n",
      "Requirement already satisfied: numpy in /Users/santhoshsivansundaramoorthy/anaconda3/lib/python3.11/site-packages (1.24.3)\n",
      "Requirement already satisfied: scikit-learn in /Users/santhoshsivansundaramoorthy/anaconda3/lib/python3.11/site-packages (1.3.0)\n",
      "Requirement already satisfied: python-dateutil>=2.8.2 in /Users/santhoshsivansundaramoorthy/anaconda3/lib/python3.11/site-packages (from pandas) (2.8.2)\n",
      "Requirement already satisfied: pytz>=2020.1 in /Users/santhoshsivansundaramoorthy/anaconda3/lib/python3.11/site-packages (from pandas) (2022.7)\n",
      "Requirement already satisfied: tzdata>=2022.1 in /Users/santhoshsivansundaramoorthy/anaconda3/lib/python3.11/site-packages (from pandas) (2023.3)\n",
      "Requirement already satisfied: contourpy>=1.0.1 in /Users/santhoshsivansundaramoorthy/anaconda3/lib/python3.11/site-packages (from matplotlib) (1.0.5)\n",
      "Requirement already satisfied: cycler>=0.10 in /Users/santhoshsivansundaramoorthy/anaconda3/lib/python3.11/site-packages (from matplotlib) (0.11.0)\n",
      "Requirement already satisfied: fonttools>=4.22.0 in /Users/santhoshsivansundaramoorthy/anaconda3/lib/python3.11/site-packages (from matplotlib) (4.25.0)\n",
      "Requirement already satisfied: kiwisolver>=1.0.1 in /Users/santhoshsivansundaramoorthy/anaconda3/lib/python3.11/site-packages (from matplotlib) (1.4.4)\n",
      "Requirement already satisfied: packaging>=20.0 in /Users/santhoshsivansundaramoorthy/anaconda3/lib/python3.11/site-packages (from matplotlib) (23.1)\n",
      "Requirement already satisfied: pillow>=6.2.0 in /Users/santhoshsivansundaramoorthy/anaconda3/lib/python3.11/site-packages (from matplotlib) (9.4.0)\n",
      "Requirement already satisfied: pyparsing<3.1,>=2.3.1 in /Users/santhoshsivansundaramoorthy/anaconda3/lib/python3.11/site-packages (from matplotlib) (3.0.9)\n",
      "Requirement already satisfied: scipy>=1.5.0 in /Users/santhoshsivansundaramoorthy/anaconda3/lib/python3.11/site-packages (from scikit-learn) (1.11.1)\n",
      "Requirement already satisfied: threadpoolctl>=2.0.0 in /Users/santhoshsivansundaramoorthy/anaconda3/lib/python3.11/site-packages (from scikit-learn) (2.2.0)\n",
      "Requirement already satisfied: six>=1.5 in /Users/santhoshsivansundaramoorthy/anaconda3/lib/python3.11/site-packages (from python-dateutil>=2.8.2->pandas) (1.16.0)\n",
      "Note: you may need to restart the kernel to use updated packages.\n"
     ]
    }
   ],
   "source": [
    "pip install joblib pandas matplotlib seaborn numpy scikit-learn"
   ]
  },
  {
   "cell_type": "markdown",
   "id": "42f3f977",
   "metadata": {},
   "source": [
    "## Dependencies"
   ]
  },
  {
   "cell_type": "code",
   "execution_count": 68,
   "id": "23aab499",
   "metadata": {},
   "outputs": [],
   "source": [
    "import joblib\n",
    "import pandas as pd\n",
    "import matplotlib.pyplot as plt\n",
    "import seaborn as sns\n",
    "import numpy as np\n",
    "from sklearn.preprocessing import StandardScaler\n",
    "from sklearn.model_selection import train_test_split, GridSearchCV\n",
    "from sklearn.tree import DecisionTreeRegressor, DecisionTreeClassifier\n",
    "from sklearn.metrics import mean_squared_error, r2_score, accuracy_score, confusion_matrix"
   ]
  },
  {
   "cell_type": "markdown",
   "id": "8ac8f4d1",
   "metadata": {},
   "source": [
    "## Load Data"
   ]
  },
  {
   "cell_type": "code",
   "execution_count": 3,
   "id": "2551346b",
   "metadata": {
    "scrolled": true
   },
   "outputs": [
    {
     "name": "stderr",
     "output_type": "stream",
     "text": [
      "/var/folders/7r/6xbgz3t92ks24g5fq035xvt40000gn/T/ipykernel_6801/933608367.py:1: DtypeWarning: Columns (2) have mixed types. Specify dtype option on import or set low_memory=False.\n",
      "  raw_data = pd.read_csv(\"https://docs.google.com/spreadsheets/d/e/2PACX-1vQlzTh9zpulyeA4rKW-9HhXQulTVuknudEUGeSZxHaFBgsgq_xvaZoGu2lDP6P3wQ/pub?output=csv\")\n"
     ]
    }
   ],
   "source": [
    "raw_data = pd.read_csv(\"https://docs.google.com/spreadsheets/d/e/2PACX-1vQlzTh9zpulyeA4rKW-9HhXQulTVuknudEUGeSZxHaFBgsgq_xvaZoGu2lDP6P3wQ/pub?output=csv\")"
   ]
  },
  {
   "cell_type": "markdown",
   "id": "2fcb0c66",
   "metadata": {},
   "source": [
    "## Understanding the Data"
   ]
  },
  {
   "cell_type": "code",
   "execution_count": 4,
   "id": "709ddb89",
   "metadata": {},
   "outputs": [
    {
     "data": {
      "text/html": [
       "<div>\n",
       "<style scoped>\n",
       "    .dataframe tbody tr th:only-of-type {\n",
       "        vertical-align: middle;\n",
       "    }\n",
       "\n",
       "    .dataframe tbody tr th {\n",
       "        vertical-align: top;\n",
       "    }\n",
       "\n",
       "    .dataframe thead th {\n",
       "        text-align: right;\n",
       "    }\n",
       "</style>\n",
       "<table border=\"1\" class=\"dataframe\">\n",
       "  <thead>\n",
       "    <tr style=\"text-align: right;\">\n",
       "      <th></th>\n",
       "      <th>id</th>\n",
       "      <th>item_date</th>\n",
       "      <th>quantity tons</th>\n",
       "      <th>customer</th>\n",
       "      <th>country</th>\n",
       "      <th>status</th>\n",
       "      <th>item type</th>\n",
       "      <th>application</th>\n",
       "      <th>thickness</th>\n",
       "      <th>width</th>\n",
       "      <th>material_ref</th>\n",
       "      <th>product_ref</th>\n",
       "      <th>delivery date</th>\n",
       "      <th>selling_price</th>\n",
       "    </tr>\n",
       "  </thead>\n",
       "  <tbody>\n",
       "    <tr>\n",
       "      <th>0</th>\n",
       "      <td>EC06F063-9DF0-440C-8764-0B0C05A4F6AE</td>\n",
       "      <td>20210401.0</td>\n",
       "      <td>54.151139</td>\n",
       "      <td>30156308.0</td>\n",
       "      <td>28.0</td>\n",
       "      <td>Won</td>\n",
       "      <td>W</td>\n",
       "      <td>10.0</td>\n",
       "      <td>2.00</td>\n",
       "      <td>1500.0</td>\n",
       "      <td>DEQ1 S460MC</td>\n",
       "      <td>1670798778</td>\n",
       "      <td>20210701.0</td>\n",
       "      <td>854.00</td>\n",
       "    </tr>\n",
       "    <tr>\n",
       "      <th>1</th>\n",
       "      <td>4E5F4B3D-DDDF-499D-AFDE-A3227EC49425</td>\n",
       "      <td>20210401.0</td>\n",
       "      <td>768.024839</td>\n",
       "      <td>30202938.0</td>\n",
       "      <td>25.0</td>\n",
       "      <td>Won</td>\n",
       "      <td>W</td>\n",
       "      <td>41.0</td>\n",
       "      <td>0.80</td>\n",
       "      <td>1210.0</td>\n",
       "      <td>0000000000000000000000000000000000104991</td>\n",
       "      <td>1668701718</td>\n",
       "      <td>20210401.0</td>\n",
       "      <td>1047.00</td>\n",
       "    </tr>\n",
       "    <tr>\n",
       "      <th>2</th>\n",
       "      <td>E140FF1B-2407-4C02-A0DD-780A093B1158</td>\n",
       "      <td>20210401.0</td>\n",
       "      <td>386.127949</td>\n",
       "      <td>30153963.0</td>\n",
       "      <td>30.0</td>\n",
       "      <td>Won</td>\n",
       "      <td>WI</td>\n",
       "      <td>28.0</td>\n",
       "      <td>0.38</td>\n",
       "      <td>952.0</td>\n",
       "      <td>S0380700</td>\n",
       "      <td>628377</td>\n",
       "      <td>20210101.0</td>\n",
       "      <td>644.33</td>\n",
       "    </tr>\n",
       "    <tr>\n",
       "      <th>3</th>\n",
       "      <td>F8D507A0-9C62-4EFE-831E-33E1DA53BB50</td>\n",
       "      <td>20210401.0</td>\n",
       "      <td>202.411065</td>\n",
       "      <td>30349574.0</td>\n",
       "      <td>32.0</td>\n",
       "      <td>Won</td>\n",
       "      <td>S</td>\n",
       "      <td>59.0</td>\n",
       "      <td>2.30</td>\n",
       "      <td>1317.0</td>\n",
       "      <td>DX51D+ZM310MAO 2.3X1317</td>\n",
       "      <td>1668701718</td>\n",
       "      <td>20210101.0</td>\n",
       "      <td>768.00</td>\n",
       "    </tr>\n",
       "    <tr>\n",
       "      <th>4</th>\n",
       "      <td>4E1C4E78-152B-430A-8094-ADD889C9D0AD</td>\n",
       "      <td>20210401.0</td>\n",
       "      <td>785.526262</td>\n",
       "      <td>30211560.0</td>\n",
       "      <td>28.0</td>\n",
       "      <td>Won</td>\n",
       "      <td>W</td>\n",
       "      <td>10.0</td>\n",
       "      <td>4.00</td>\n",
       "      <td>2000.0</td>\n",
       "      <td>2_S275JR+AR-CL1</td>\n",
       "      <td>640665</td>\n",
       "      <td>20210301.0</td>\n",
       "      <td>577.00</td>\n",
       "    </tr>\n",
       "  </tbody>\n",
       "</table>\n",
       "</div>"
      ],
      "text/plain": [
       "                                     id   item_date quantity tons    customer  \\\n",
       "0  EC06F063-9DF0-440C-8764-0B0C05A4F6AE  20210401.0     54.151139  30156308.0   \n",
       "1  4E5F4B3D-DDDF-499D-AFDE-A3227EC49425  20210401.0    768.024839  30202938.0   \n",
       "2  E140FF1B-2407-4C02-A0DD-780A093B1158  20210401.0    386.127949  30153963.0   \n",
       "3  F8D507A0-9C62-4EFE-831E-33E1DA53BB50  20210401.0    202.411065  30349574.0   \n",
       "4  4E1C4E78-152B-430A-8094-ADD889C9D0AD  20210401.0    785.526262  30211560.0   \n",
       "\n",
       "   country status item type  application  thickness   width  \\\n",
       "0     28.0    Won         W         10.0       2.00  1500.0   \n",
       "1     25.0    Won         W         41.0       0.80  1210.0   \n",
       "2     30.0    Won        WI         28.0       0.38   952.0   \n",
       "3     32.0    Won         S         59.0       2.30  1317.0   \n",
       "4     28.0    Won         W         10.0       4.00  2000.0   \n",
       "\n",
       "                               material_ref  product_ref  delivery date  \\\n",
       "0                               DEQ1 S460MC   1670798778     20210701.0   \n",
       "1  0000000000000000000000000000000000104991   1668701718     20210401.0   \n",
       "2                                  S0380700       628377     20210101.0   \n",
       "3                   DX51D+ZM310MAO 2.3X1317   1668701718     20210101.0   \n",
       "4                           2_S275JR+AR-CL1       640665     20210301.0   \n",
       "\n",
       "   selling_price  \n",
       "0         854.00  \n",
       "1        1047.00  \n",
       "2         644.33  \n",
       "3         768.00  \n",
       "4         577.00  "
      ]
     },
     "execution_count": 4,
     "metadata": {},
     "output_type": "execute_result"
    }
   ],
   "source": [
    "raw_data.head()"
   ]
  },
  {
   "cell_type": "code",
   "execution_count": 5,
   "id": "0bf3c42c",
   "metadata": {},
   "outputs": [
    {
     "data": {
      "text/html": [
       "<div>\n",
       "<style scoped>\n",
       "    .dataframe tbody tr th:only-of-type {\n",
       "        vertical-align: middle;\n",
       "    }\n",
       "\n",
       "    .dataframe tbody tr th {\n",
       "        vertical-align: top;\n",
       "    }\n",
       "\n",
       "    .dataframe thead th {\n",
       "        text-align: right;\n",
       "    }\n",
       "</style>\n",
       "<table border=\"1\" class=\"dataframe\">\n",
       "  <thead>\n",
       "    <tr style=\"text-align: right;\">\n",
       "      <th></th>\n",
       "      <th>id</th>\n",
       "      <th>item_date</th>\n",
       "      <th>quantity tons</th>\n",
       "      <th>customer</th>\n",
       "      <th>country</th>\n",
       "      <th>status</th>\n",
       "      <th>item type</th>\n",
       "      <th>application</th>\n",
       "      <th>thickness</th>\n",
       "      <th>width</th>\n",
       "      <th>material_ref</th>\n",
       "      <th>product_ref</th>\n",
       "      <th>delivery date</th>\n",
       "      <th>selling_price</th>\n",
       "    </tr>\n",
       "  </thead>\n",
       "  <tbody>\n",
       "    <tr>\n",
       "      <th>181668</th>\n",
       "      <td>DE633116-D1DF-4846-982E-55EFC3658A76</td>\n",
       "      <td>20200702.0</td>\n",
       "      <td>102.4824216</td>\n",
       "      <td>30200854.0</td>\n",
       "      <td>25.0</td>\n",
       "      <td>Won</td>\n",
       "      <td>W</td>\n",
       "      <td>41.0</td>\n",
       "      <td>0.96</td>\n",
       "      <td>1220.0</td>\n",
       "      <td>0000000000000000000000000000000001000777</td>\n",
       "      <td>164141591</td>\n",
       "      <td>20200701.0</td>\n",
       "      <td>591.0</td>\n",
       "    </tr>\n",
       "    <tr>\n",
       "      <th>181669</th>\n",
       "      <td>A48374B1-E6DB-45F2-889A-1F9C27C099EB</td>\n",
       "      <td>20200702.0</td>\n",
       "      <td>208.0864686</td>\n",
       "      <td>30200854.0</td>\n",
       "      <td>25.0</td>\n",
       "      <td>Won</td>\n",
       "      <td>W</td>\n",
       "      <td>41.0</td>\n",
       "      <td>0.95</td>\n",
       "      <td>1500.0</td>\n",
       "      <td>0000000000000000000000000000000001000227</td>\n",
       "      <td>164141591</td>\n",
       "      <td>20200701.0</td>\n",
       "      <td>589.0</td>\n",
       "    </tr>\n",
       "    <tr>\n",
       "      <th>181670</th>\n",
       "      <td>91643238-5C7B-4237-9A5F-63AE3D35F320</td>\n",
       "      <td>20200702.0</td>\n",
       "      <td>4.235593568</td>\n",
       "      <td>30200854.0</td>\n",
       "      <td>25.0</td>\n",
       "      <td>Won</td>\n",
       "      <td>W</td>\n",
       "      <td>41.0</td>\n",
       "      <td>0.71</td>\n",
       "      <td>1250.0</td>\n",
       "      <td>0000000000000000000000000000000001004216</td>\n",
       "      <td>164141591</td>\n",
       "      <td>20200701.0</td>\n",
       "      <td>619.0</td>\n",
       "    </tr>\n",
       "    <tr>\n",
       "      <th>181671</th>\n",
       "      <td>7AFFD323-01D9-4E15-B80D-7D1B03498FC8</td>\n",
       "      <td>20200702.0</td>\n",
       "      <td>-2000</td>\n",
       "      <td>30200854.0</td>\n",
       "      <td>25.0</td>\n",
       "      <td>Won</td>\n",
       "      <td>W</td>\n",
       "      <td>41.0</td>\n",
       "      <td>0.85</td>\n",
       "      <td>1250.0</td>\n",
       "      <td>0000000000000000000000000000000001001149</td>\n",
       "      <td>164141591</td>\n",
       "      <td>20200701.0</td>\n",
       "      <td>601.0</td>\n",
       "    </tr>\n",
       "    <tr>\n",
       "      <th>181672</th>\n",
       "      <td>AD0CA853-AE3C-4B2F-9FBB-8B0B965F84BC</td>\n",
       "      <td>20200702.0</td>\n",
       "      <td>406.6865384</td>\n",
       "      <td>30200854.0</td>\n",
       "      <td>25.0</td>\n",
       "      <td>Won</td>\n",
       "      <td>W</td>\n",
       "      <td>41.0</td>\n",
       "      <td>0.71</td>\n",
       "      <td>1240.0</td>\n",
       "      <td>0000000000000000000000000000000001005439</td>\n",
       "      <td>164141591</td>\n",
       "      <td>20200701.0</td>\n",
       "      <td>607.0</td>\n",
       "    </tr>\n",
       "  </tbody>\n",
       "</table>\n",
       "</div>"
      ],
      "text/plain": [
       "                                          id   item_date quantity tons  \\\n",
       "181668  DE633116-D1DF-4846-982E-55EFC3658A76  20200702.0   102.4824216   \n",
       "181669  A48374B1-E6DB-45F2-889A-1F9C27C099EB  20200702.0   208.0864686   \n",
       "181670  91643238-5C7B-4237-9A5F-63AE3D35F320  20200702.0   4.235593568   \n",
       "181671  7AFFD323-01D9-4E15-B80D-7D1B03498FC8  20200702.0         -2000   \n",
       "181672  AD0CA853-AE3C-4B2F-9FBB-8B0B965F84BC  20200702.0   406.6865384   \n",
       "\n",
       "          customer  country status item type  application  thickness   width  \\\n",
       "181668  30200854.0     25.0    Won         W         41.0       0.96  1220.0   \n",
       "181669  30200854.0     25.0    Won         W         41.0       0.95  1500.0   \n",
       "181670  30200854.0     25.0    Won         W         41.0       0.71  1250.0   \n",
       "181671  30200854.0     25.0    Won         W         41.0       0.85  1250.0   \n",
       "181672  30200854.0     25.0    Won         W         41.0       0.71  1240.0   \n",
       "\n",
       "                                    material_ref  product_ref  delivery date  \\\n",
       "181668  0000000000000000000000000000000001000777    164141591     20200701.0   \n",
       "181669  0000000000000000000000000000000001000227    164141591     20200701.0   \n",
       "181670  0000000000000000000000000000000001004216    164141591     20200701.0   \n",
       "181671  0000000000000000000000000000000001001149    164141591     20200701.0   \n",
       "181672  0000000000000000000000000000000001005439    164141591     20200701.0   \n",
       "\n",
       "        selling_price  \n",
       "181668          591.0  \n",
       "181669          589.0  \n",
       "181670          619.0  \n",
       "181671          601.0  \n",
       "181672          607.0  "
      ]
     },
     "execution_count": 5,
     "metadata": {},
     "output_type": "execute_result"
    }
   ],
   "source": [
    "raw_data.tail()"
   ]
  },
  {
   "cell_type": "code",
   "execution_count": 6,
   "id": "4c8bc369",
   "metadata": {},
   "outputs": [
    {
     "name": "stdout",
     "output_type": "stream",
     "text": [
      "<class 'pandas.core.frame.DataFrame'>\n",
      "RangeIndex: 181673 entries, 0 to 181672\n",
      "Data columns (total 14 columns):\n",
      " #   Column         Non-Null Count   Dtype  \n",
      "---  ------         --------------   -----  \n",
      " 0   id             181671 non-null  object \n",
      " 1   item_date      181672 non-null  float64\n",
      " 2   quantity tons  181673 non-null  object \n",
      " 3   customer       181672 non-null  float64\n",
      " 4   country        181645 non-null  float64\n",
      " 5   status         181671 non-null  object \n",
      " 6   item type      181673 non-null  object \n",
      " 7   application    181649 non-null  float64\n",
      " 8   thickness      181672 non-null  float64\n",
      " 9   width          181673 non-null  float64\n",
      " 10  material_ref   103754 non-null  object \n",
      " 11  product_ref    181673 non-null  int64  \n",
      " 12  delivery date  181672 non-null  float64\n",
      " 13  selling_price  181672 non-null  float64\n",
      "dtypes: float64(8), int64(1), object(5)\n",
      "memory usage: 19.4+ MB\n"
     ]
    }
   ],
   "source": [
    "raw_data.info()"
   ]
  },
  {
   "cell_type": "markdown",
   "id": "a955467d",
   "metadata": {},
   "source": [
    "The columns and their data types are as follows:\n",
    "\n",
    "**id (object)**: This column appears to be a unique identifier.\n",
    "\n",
    "**item_date (float64)**: This column may represent dates, but it's currently stored as float64. \n",
    "\n",
    "**quantity tons (object)**: This column is expected to represent quantities in tons, but it's stored as an object. \n",
    "\n",
    "**customer (float64):** This column likely represents customer IDs, stored as float64. \n",
    "*It could be converted to a categorical or integer data type depending on its nature.*\n",
    "\n",
    "**country (float64):** This column likely represents country codes or IDs, stored as float64. \n",
    "*It could be converted to a categorical or integer data type depending on its nature.*\n",
    "\n",
    "**status (object):** This column seems to represent the status of the items. It's stored as an object, which is appropriate for categorical data.\n",
    "\n",
    "**item type (object):** This column appears to represent the type of items. It's stored as an object, suitable for categorical data.\n",
    "\n",
    "**application (float64):** This column may represent application IDs or codes, stored as float64. \n",
    "*It could be converted to a categorical or integer data type depending on its nature.*\n",
    "\n",
    "**thickness (float64):** This column represents thickness measurements, stored as float64.\n",
    "\n",
    "**width (float64):** This column represents width measurements, stored as float64.\n",
    "\n",
    "**material_ref (object):** This column is stored as an object, which may contain references or codes for materials.\n",
    "\n",
    "**product_ref (int64):** This column contains integer values.\n",
    "\n",
    "**delivery date (float64):** This column may represent delivery dates, but it's stored as float64. \n",
    "\n",
    "**selling_price (float64):** This column represents selling prices, stored as float64."
   ]
  },
  {
   "cell_type": "code",
   "execution_count": 7,
   "id": "8e7f920b",
   "metadata": {},
   "outputs": [
    {
     "name": "stdout",
     "output_type": "stream",
     "text": [
      "Number of unique values in 'id' : 181672\n",
      "Number of unique values in 'item_date' : 253\n",
      "Number of unique values in 'quantity tons' : 181673\n",
      "Number of unique values in 'customer' : 1170\n",
      "Number of unique values in 'country' : 18\n",
      "Number of unique values in 'status' : 10\n",
      "Number of unique values in 'item type' : 7\n",
      "Number of unique values in 'application' : 31\n",
      "Number of unique values in 'thickness' : 595\n",
      "Number of unique values in 'width' : 1386\n",
      "Number of unique values in 'material_ref' : 16564\n",
      "Number of unique values in 'product_ref' : 33\n",
      "Number of unique values in 'delivery date' : 29\n",
      "Number of unique values in 'selling_price' : 9796\n"
     ]
    }
   ],
   "source": [
    "for column in raw_data.columns:\n",
    "    unique_values = raw_data[column].unique()\n",
    "    num_unique_values = len(unique_values)\n",
    "    print(f\"Number of unique values in '{column}' : {num_unique_values}\")"
   ]
  },
  {
   "cell_type": "markdown",
   "id": "7816bbb7",
   "metadata": {},
   "source": [
    "**id** : Drop\n",
    "\n",
    "**item_date** : Convert it to date/type or DROP\n",
    "\n",
    "**quantity tons** : Convert it to Numeric\n",
    "\n",
    "**customer** : Treat as Catagorical\n",
    "\n",
    "**country** : Treat as Catagorical\n",
    "\n",
    "**status** : Catagorical\n",
    "\n",
    "**item type** : Catagorical\n",
    "\n",
    "**application** : Treat as Catagorical\n",
    "\n",
    "**thickness** : Numerical\n",
    "\n",
    "**width** : Numerical\n",
    "\n",
    "**material_ref** : DROP\n",
    "\n",
    "**product_ref** : Treat as Catagorical\n",
    "\n",
    "**delivery date** : Convert it to date/type or DROP\n",
    "\n",
    "**selling_price** : DEPEDENT VARIABLE\n"
   ]
  },
  {
   "cell_type": "markdown",
   "id": "72795272",
   "metadata": {},
   "source": [
    "## Pre-Processing the data"
   ]
  },
  {
   "cell_type": "code",
   "execution_count": 8,
   "id": "e9e7f695",
   "metadata": {},
   "outputs": [],
   "source": [
    "data = raw_data.copy()"
   ]
  },
  {
   "cell_type": "code",
   "execution_count": 9,
   "id": "3510b04f",
   "metadata": {},
   "outputs": [],
   "source": [
    "# Drop Column\n",
    "data.drop(['id', 'material_ref', 'delivery date', 'item_date'], axis=1, inplace=True)"
   ]
  },
  {
   "cell_type": "code",
   "execution_count": 10,
   "id": "b94180ea",
   "metadata": {},
   "outputs": [],
   "source": [
    "# Convert Columns to Appropriate Types\n",
    "data['quantity tons'] = pd.to_numeric(data['quantity tons'], errors='coerce')"
   ]
  },
  {
   "cell_type": "code",
   "execution_count": 11,
   "id": "c6548da3",
   "metadata": {},
   "outputs": [],
   "source": [
    "# Converting to catagorical\n",
    "categorical_columns = ['customer', 'country', 'status', 'item type', 'application', 'product_ref']\n",
    "data[categorical_columns] = data[categorical_columns].astype('category')"
   ]
  },
  {
   "cell_type": "code",
   "execution_count": 12,
   "id": "f2a0a38d",
   "metadata": {},
   "outputs": [
    {
     "data": {
      "text/plain": [
       "(181673, 10)"
      ]
     },
     "execution_count": 12,
     "metadata": {},
     "output_type": "execute_result"
    }
   ],
   "source": [
    "data.shape"
   ]
  },
  {
   "cell_type": "code",
   "execution_count": 13,
   "id": "8ffc23e3",
   "metadata": {},
   "outputs": [
    {
     "data": {
      "text/plain": [
       "['Won', 'Draft', 'To be approved', 'Lost', 'Not lost for AM', 'Wonderful', 'Revised', 'Offered', 'Offerable', NaN]\n",
       "Categories (9, object): ['Draft', 'Lost', 'Not lost for AM', 'Offerable', ..., 'Revised', 'To be approved', 'Won', 'Wonderful']"
      ]
     },
     "execution_count": 13,
     "metadata": {},
     "output_type": "execute_result"
    }
   ],
   "source": [
    "data['status'].unique()"
   ]
  },
  {
   "cell_type": "markdown",
   "id": "cce789f2",
   "metadata": {},
   "source": [
    "Data should not be less than 172589.35 after cleaning."
   ]
  },
  {
   "cell_type": "code",
   "execution_count": 14,
   "id": "af7903bd",
   "metadata": {},
   "outputs": [
    {
     "data": {
      "text/plain": [
       "quantity tons     1\n",
       "customer          1\n",
       "country          28\n",
       "status            2\n",
       "item type         0\n",
       "application      24\n",
       "thickness         1\n",
       "width             0\n",
       "product_ref       0\n",
       "selling_price     1\n",
       "dtype: int64"
      ]
     },
     "execution_count": 14,
     "metadata": {},
     "output_type": "execute_result"
    }
   ],
   "source": [
    "data.isnull().sum()"
   ]
  },
  {
   "cell_type": "code",
   "execution_count": 15,
   "id": "4c10c596",
   "metadata": {},
   "outputs": [],
   "source": [
    "data_with_no_mv = data.dropna()"
   ]
  },
  {
   "cell_type": "code",
   "execution_count": 16,
   "id": "ef968259",
   "metadata": {},
   "outputs": [
    {
     "data": {
      "text/plain": [
       "quantity tons    0\n",
       "customer         0\n",
       "country          0\n",
       "status           0\n",
       "item type        0\n",
       "application      0\n",
       "thickness        0\n",
       "width            0\n",
       "product_ref      0\n",
       "selling_price    0\n",
       "dtype: int64"
      ]
     },
     "execution_count": 16,
     "metadata": {},
     "output_type": "execute_result"
    }
   ],
   "source": [
    "data_with_no_mv.isnull().sum()"
   ]
  },
  {
   "cell_type": "code",
   "execution_count": 17,
   "id": "d6150b96",
   "metadata": {},
   "outputs": [
    {
     "data": {
      "text/html": [
       "<div>\n",
       "<style scoped>\n",
       "    .dataframe tbody tr th:only-of-type {\n",
       "        vertical-align: middle;\n",
       "    }\n",
       "\n",
       "    .dataframe tbody tr th {\n",
       "        vertical-align: top;\n",
       "    }\n",
       "\n",
       "    .dataframe thead th {\n",
       "        text-align: right;\n",
       "    }\n",
       "</style>\n",
       "<table border=\"1\" class=\"dataframe\">\n",
       "  <thead>\n",
       "    <tr style=\"text-align: right;\">\n",
       "      <th></th>\n",
       "      <th>quantity tons</th>\n",
       "      <th>thickness</th>\n",
       "      <th>width</th>\n",
       "      <th>selling_price</th>\n",
       "    </tr>\n",
       "  </thead>\n",
       "  <tbody>\n",
       "    <tr>\n",
       "      <th>count</th>\n",
       "      <td>181639.000000</td>\n",
       "      <td>181639.000000</td>\n",
       "      <td>181639.000000</td>\n",
       "      <td>181639.000000</td>\n",
       "    </tr>\n",
       "    <tr>\n",
       "      <th>mean</th>\n",
       "      <td>5875.974225</td>\n",
       "      <td>2.564145</td>\n",
       "      <td>1295.265103</td>\n",
       "      <td>1918.322724</td>\n",
       "    </tr>\n",
       "    <tr>\n",
       "      <th>std</th>\n",
       "      <td>2349294.621285</td>\n",
       "      <td>6.572500</td>\n",
       "      <td>261.641088</td>\n",
       "      <td>331825.780786</td>\n",
       "    </tr>\n",
       "    <tr>\n",
       "      <th>min</th>\n",
       "      <td>-2000.000000</td>\n",
       "      <td>0.180000</td>\n",
       "      <td>1.000000</td>\n",
       "      <td>-1160.000000</td>\n",
       "    </tr>\n",
       "    <tr>\n",
       "      <th>25%</th>\n",
       "      <td>10.968692</td>\n",
       "      <td>0.700000</td>\n",
       "      <td>1180.000000</td>\n",
       "      <td>669.000000</td>\n",
       "    </tr>\n",
       "    <tr>\n",
       "      <th>50%</th>\n",
       "      <td>30.363953</td>\n",
       "      <td>1.500000</td>\n",
       "      <td>1250.000000</td>\n",
       "      <td>812.000000</td>\n",
       "    </tr>\n",
       "    <tr>\n",
       "      <th>75%</th>\n",
       "      <td>67.161869</td>\n",
       "      <td>3.000000</td>\n",
       "      <td>1500.000000</td>\n",
       "      <td>953.000000</td>\n",
       "    </tr>\n",
       "    <tr>\n",
       "      <th>max</th>\n",
       "      <td>1000000000.000000</td>\n",
       "      <td>2500.000000</td>\n",
       "      <td>2990.000000</td>\n",
       "      <td>100001015.000000</td>\n",
       "    </tr>\n",
       "  </tbody>\n",
       "</table>\n",
       "</div>"
      ],
      "text/plain": [
       "          quantity tons     thickness         width    selling_price\n",
       "count     181639.000000 181639.000000 181639.000000    181639.000000\n",
       "mean        5875.974225      2.564145   1295.265103      1918.322724\n",
       "std      2349294.621285      6.572500    261.641088    331825.780786\n",
       "min        -2000.000000      0.180000      1.000000     -1160.000000\n",
       "25%           10.968692      0.700000   1180.000000       669.000000\n",
       "50%           30.363953      1.500000   1250.000000       812.000000\n",
       "75%           67.161869      3.000000   1500.000000       953.000000\n",
       "max   1000000000.000000   2500.000000   2990.000000 100001015.000000"
      ]
     },
     "execution_count": 17,
     "metadata": {},
     "output_type": "execute_result"
    }
   ],
   "source": [
    "pd.set_option('display.float_format', '{:.6f}'.format)\n",
    "data_with_no_mv.describe()"
   ]
  },
  {
   "cell_type": "markdown",
   "id": "37c9d99b",
   "metadata": {},
   "source": [
    "## Handling Outliers"
   ]
  },
  {
   "cell_type": "code",
   "execution_count": 18,
   "id": "3107347a",
   "metadata": {},
   "outputs": [],
   "source": [
    "data_outliers = data_with_no_mv.copy()"
   ]
  },
  {
   "cell_type": "code",
   "execution_count": 19,
   "id": "b2686eb6",
   "metadata": {},
   "outputs": [
    {
     "name": "stderr",
     "output_type": "stream",
     "text": [
      "/Users/santhoshsivansundaramoorthy/anaconda3/lib/python3.11/site-packages/pandas/core/arraylike.py:396: RuntimeWarning: divide by zero encountered in log\n",
      "  result = getattr(ufunc, method)(*inputs, **kwargs)\n",
      "/Users/santhoshsivansundaramoorthy/anaconda3/lib/python3.11/site-packages/pandas/core/arraylike.py:396: RuntimeWarning: invalid value encountered in log\n",
      "  result = getattr(ufunc, method)(*inputs, **kwargs)\n",
      "/Users/santhoshsivansundaramoorthy/anaconda3/lib/python3.11/site-packages/pandas/core/arraylike.py:396: RuntimeWarning: invalid value encountered in log\n",
      "  result = getattr(ufunc, method)(*inputs, **kwargs)\n"
     ]
    }
   ],
   "source": [
    "data_outliers['log_thickness'] = np.log(data_outliers['thickness'])\n",
    "data_outliers['log_selling_price'] = np.log(data_outliers['selling_price'])\n",
    "data_outliers['log_quantity_tons'] = np.log(data_outliers['quantity tons'])"
   ]
  },
  {
   "cell_type": "code",
   "execution_count": 20,
   "id": "f0c67d6c",
   "metadata": {},
   "outputs": [],
   "source": [
    "data_outliers = data_outliers.dropna()"
   ]
  },
  {
   "cell_type": "code",
   "execution_count": 21,
   "id": "49cd70ef",
   "metadata": {},
   "outputs": [
    {
     "data": {
      "text/plain": [
       "(181630, 13)"
      ]
     },
     "execution_count": 21,
     "metadata": {},
     "output_type": "execute_result"
    }
   ],
   "source": [
    "data_outliers.shape"
   ]
  },
  {
   "cell_type": "code",
   "execution_count": 22,
   "id": "65c47ddb",
   "metadata": {},
   "outputs": [
    {
     "data": {
      "text/plain": [
       "<Axes: >"
      ]
     },
     "execution_count": 22,
     "metadata": {},
     "output_type": "execute_result"
    },
    {
     "data": {
      "image/png": "[encoded data removed]",
      "text/plain": [
       "<Figure size 640x480 with 2 Axes>"
      ]
     },
     "metadata": {},
     "output_type": "display_data"
    }
   ],
   "source": [
    "Correlation = data_outliers[['log_quantity_tons', 'customer', 'country', 'application', 'log_thickness', 'width', 'product_ref','log_selling_price']].corr()\n",
    "sns.heatmap(Correlation, annot=True, cmap=\"YlGnBu\")"
   ]
  },
  {
   "cell_type": "code",
   "execution_count": 23,
   "id": "03eadef9",
   "metadata": {},
   "outputs": [],
   "source": [
    "# Filter out rows with -inf and NaN values in the target variable\n",
    "data_outliers = data_outliers[~data_outliers['log_selling_price'].isin([-np.inf, np.inf])].dropna(subset=['log_selling_price'])\n",
    "\n"
   ]
  },
  {
   "cell_type": "markdown",
   "id": "bd6caeb6",
   "metadata": {},
   "source": [
    "## Output is Numerical"
   ]
  },
  {
   "cell_type": "markdown",
   "id": "926d940d",
   "metadata": {},
   "source": [
    "### Defining Depedent and indepedent Variable"
   ]
  },
  {
   "cell_type": "code",
   "execution_count": 24,
   "id": "315fffa2",
   "metadata": {},
   "outputs": [],
   "source": [
    "# The target(s) (dependent variable) is 'log_selling_price'\n",
    "targets = data_outliers['log_selling_price']\n",
    "# The inputs are everything BUT the dependent variable, so we can simply drop it with other data which is not required\n",
    "inputs = data_outliers.drop(['selling_price', 'quantity tons', 'thickness', 'log_selling_price'],axis=1)\n"
   ]
  },
  {
   "cell_type": "markdown",
   "id": "be9cf67f",
   "metadata": {},
   "source": [
    "### Creating Dummies for catagorical Variable"
   ]
  },
  {
   "cell_type": "code",
   "execution_count": 25,
   "id": "fb58395a",
   "metadata": {},
   "outputs": [
    {
     "data": {
      "text/html": [
       "<div>\n",
       "<style scoped>\n",
       "    .dataframe tbody tr th:only-of-type {\n",
       "        vertical-align: middle;\n",
       "    }\n",
       "\n",
       "    .dataframe tbody tr th {\n",
       "        vertical-align: top;\n",
       "    }\n",
       "\n",
       "    .dataframe thead th {\n",
       "        text-align: right;\n",
       "    }\n",
       "</style>\n",
       "<table border=\"1\" class=\"dataframe\">\n",
       "  <thead>\n",
       "    <tr style=\"text-align: right;\">\n",
       "      <th></th>\n",
       "      <th>customer</th>\n",
       "      <th>country</th>\n",
       "      <th>application</th>\n",
       "      <th>width</th>\n",
       "      <th>product_ref</th>\n",
       "      <th>log_thickness</th>\n",
       "      <th>log_quantity_tons</th>\n",
       "      <th>item type_Others</th>\n",
       "      <th>item type_PL</th>\n",
       "      <th>item type_S</th>\n",
       "      <th>...</th>\n",
       "      <th>item type_W</th>\n",
       "      <th>item type_WI</th>\n",
       "      <th>status_Lost</th>\n",
       "      <th>status_Not lost for AM</th>\n",
       "      <th>status_Offerable</th>\n",
       "      <th>status_Offered</th>\n",
       "      <th>status_Revised</th>\n",
       "      <th>status_To be approved</th>\n",
       "      <th>status_Won</th>\n",
       "      <th>status_Wonderful</th>\n",
       "    </tr>\n",
       "  </thead>\n",
       "  <tbody>\n",
       "    <tr>\n",
       "      <th>0</th>\n",
       "      <td>30156308.000000</td>\n",
       "      <td>28.000000</td>\n",
       "      <td>10.000000</td>\n",
       "      <td>1500.000000</td>\n",
       "      <td>1670798778</td>\n",
       "      <td>0.693147</td>\n",
       "      <td>3.991779</td>\n",
       "      <td>0</td>\n",
       "      <td>0</td>\n",
       "      <td>0</td>\n",
       "      <td>...</td>\n",
       "      <td>1</td>\n",
       "      <td>0</td>\n",
       "      <td>0</td>\n",
       "      <td>0</td>\n",
       "      <td>0</td>\n",
       "      <td>0</td>\n",
       "      <td>0</td>\n",
       "      <td>0</td>\n",
       "      <td>1</td>\n",
       "      <td>0</td>\n",
       "    </tr>\n",
       "    <tr>\n",
       "      <th>1</th>\n",
       "      <td>30202938.000000</td>\n",
       "      <td>25.000000</td>\n",
       "      <td>41.000000</td>\n",
       "      <td>1210.000000</td>\n",
       "      <td>1668701718</td>\n",
       "      <td>-0.223144</td>\n",
       "      <td>6.643822</td>\n",
       "      <td>0</td>\n",
       "      <td>0</td>\n",
       "      <td>0</td>\n",
       "      <td>...</td>\n",
       "      <td>1</td>\n",
       "      <td>0</td>\n",
       "      <td>0</td>\n",
       "      <td>0</td>\n",
       "      <td>0</td>\n",
       "      <td>0</td>\n",
       "      <td>0</td>\n",
       "      <td>0</td>\n",
       "      <td>1</td>\n",
       "      <td>0</td>\n",
       "    </tr>\n",
       "    <tr>\n",
       "      <th>2</th>\n",
       "      <td>30153963.000000</td>\n",
       "      <td>30.000000</td>\n",
       "      <td>28.000000</td>\n",
       "      <td>952.000000</td>\n",
       "      <td>628377</td>\n",
       "      <td>-0.967584</td>\n",
       "      <td>5.956169</td>\n",
       "      <td>0</td>\n",
       "      <td>0</td>\n",
       "      <td>0</td>\n",
       "      <td>...</td>\n",
       "      <td>0</td>\n",
       "      <td>1</td>\n",
       "      <td>0</td>\n",
       "      <td>0</td>\n",
       "      <td>0</td>\n",
       "      <td>0</td>\n",
       "      <td>0</td>\n",
       "      <td>0</td>\n",
       "      <td>1</td>\n",
       "      <td>0</td>\n",
       "    </tr>\n",
       "    <tr>\n",
       "      <th>3</th>\n",
       "      <td>30349574.000000</td>\n",
       "      <td>32.000000</td>\n",
       "      <td>59.000000</td>\n",
       "      <td>1317.000000</td>\n",
       "      <td>1668701718</td>\n",
       "      <td>0.832909</td>\n",
       "      <td>5.310301</td>\n",
       "      <td>0</td>\n",
       "      <td>0</td>\n",
       "      <td>1</td>\n",
       "      <td>...</td>\n",
       "      <td>0</td>\n",
       "      <td>0</td>\n",
       "      <td>0</td>\n",
       "      <td>0</td>\n",
       "      <td>0</td>\n",
       "      <td>0</td>\n",
       "      <td>0</td>\n",
       "      <td>0</td>\n",
       "      <td>1</td>\n",
       "      <td>0</td>\n",
       "    </tr>\n",
       "    <tr>\n",
       "      <th>4</th>\n",
       "      <td>30211560.000000</td>\n",
       "      <td>28.000000</td>\n",
       "      <td>10.000000</td>\n",
       "      <td>2000.000000</td>\n",
       "      <td>640665</td>\n",
       "      <td>1.386294</td>\n",
       "      <td>6.666354</td>\n",
       "      <td>0</td>\n",
       "      <td>0</td>\n",
       "      <td>0</td>\n",
       "      <td>...</td>\n",
       "      <td>1</td>\n",
       "      <td>0</td>\n",
       "      <td>0</td>\n",
       "      <td>0</td>\n",
       "      <td>0</td>\n",
       "      <td>0</td>\n",
       "      <td>0</td>\n",
       "      <td>0</td>\n",
       "      <td>1</td>\n",
       "      <td>0</td>\n",
       "    </tr>\n",
       "    <tr>\n",
       "      <th>...</th>\n",
       "      <td>...</td>\n",
       "      <td>...</td>\n",
       "      <td>...</td>\n",
       "      <td>...</td>\n",
       "      <td>...</td>\n",
       "      <td>...</td>\n",
       "      <td>...</td>\n",
       "      <td>...</td>\n",
       "      <td>...</td>\n",
       "      <td>...</td>\n",
       "      <td>...</td>\n",
       "      <td>...</td>\n",
       "      <td>...</td>\n",
       "      <td>...</td>\n",
       "      <td>...</td>\n",
       "      <td>...</td>\n",
       "      <td>...</td>\n",
       "      <td>...</td>\n",
       "      <td>...</td>\n",
       "      <td>...</td>\n",
       "      <td>...</td>\n",
       "    </tr>\n",
       "    <tr>\n",
       "      <th>181667</th>\n",
       "      <td>30200854.000000</td>\n",
       "      <td>25.000000</td>\n",
       "      <td>41.000000</td>\n",
       "      <td>1240.000000</td>\n",
       "      <td>164141591</td>\n",
       "      <td>-0.040822</td>\n",
       "      <td>4.670802</td>\n",
       "      <td>0</td>\n",
       "      <td>0</td>\n",
       "      <td>0</td>\n",
       "      <td>...</td>\n",
       "      <td>1</td>\n",
       "      <td>0</td>\n",
       "      <td>0</td>\n",
       "      <td>0</td>\n",
       "      <td>0</td>\n",
       "      <td>0</td>\n",
       "      <td>0</td>\n",
       "      <td>0</td>\n",
       "      <td>1</td>\n",
       "      <td>0</td>\n",
       "    </tr>\n",
       "    <tr>\n",
       "      <th>181668</th>\n",
       "      <td>30200854.000000</td>\n",
       "      <td>25.000000</td>\n",
       "      <td>41.000000</td>\n",
       "      <td>1220.000000</td>\n",
       "      <td>164141591</td>\n",
       "      <td>-0.040822</td>\n",
       "      <td>4.629691</td>\n",
       "      <td>0</td>\n",
       "      <td>0</td>\n",
       "      <td>0</td>\n",
       "      <td>...</td>\n",
       "      <td>1</td>\n",
       "      <td>0</td>\n",
       "      <td>0</td>\n",
       "      <td>0</td>\n",
       "      <td>0</td>\n",
       "      <td>0</td>\n",
       "      <td>0</td>\n",
       "      <td>0</td>\n",
       "      <td>1</td>\n",
       "      <td>0</td>\n",
       "    </tr>\n",
       "    <tr>\n",
       "      <th>181669</th>\n",
       "      <td>30200854.000000</td>\n",
       "      <td>25.000000</td>\n",
       "      <td>41.000000</td>\n",
       "      <td>1500.000000</td>\n",
       "      <td>164141591</td>\n",
       "      <td>-0.051293</td>\n",
       "      <td>5.337954</td>\n",
       "      <td>0</td>\n",
       "      <td>0</td>\n",
       "      <td>0</td>\n",
       "      <td>...</td>\n",
       "      <td>1</td>\n",
       "      <td>0</td>\n",
       "      <td>0</td>\n",
       "      <td>0</td>\n",
       "      <td>0</td>\n",
       "      <td>0</td>\n",
       "      <td>0</td>\n",
       "      <td>0</td>\n",
       "      <td>1</td>\n",
       "      <td>0</td>\n",
       "    </tr>\n",
       "    <tr>\n",
       "      <th>181670</th>\n",
       "      <td>30200854.000000</td>\n",
       "      <td>25.000000</td>\n",
       "      <td>41.000000</td>\n",
       "      <td>1250.000000</td>\n",
       "      <td>164141591</td>\n",
       "      <td>-0.342490</td>\n",
       "      <td>1.443523</td>\n",
       "      <td>0</td>\n",
       "      <td>0</td>\n",
       "      <td>0</td>\n",
       "      <td>...</td>\n",
       "      <td>1</td>\n",
       "      <td>0</td>\n",
       "      <td>0</td>\n",
       "      <td>0</td>\n",
       "      <td>0</td>\n",
       "      <td>0</td>\n",
       "      <td>0</td>\n",
       "      <td>0</td>\n",
       "      <td>1</td>\n",
       "      <td>0</td>\n",
       "    </tr>\n",
       "    <tr>\n",
       "      <th>181672</th>\n",
       "      <td>30200854.000000</td>\n",
       "      <td>25.000000</td>\n",
       "      <td>41.000000</td>\n",
       "      <td>1240.000000</td>\n",
       "      <td>164141591</td>\n",
       "      <td>-0.342490</td>\n",
       "      <td>6.008043</td>\n",
       "      <td>0</td>\n",
       "      <td>0</td>\n",
       "      <td>0</td>\n",
       "      <td>...</td>\n",
       "      <td>1</td>\n",
       "      <td>0</td>\n",
       "      <td>0</td>\n",
       "      <td>0</td>\n",
       "      <td>0</td>\n",
       "      <td>0</td>\n",
       "      <td>0</td>\n",
       "      <td>0</td>\n",
       "      <td>1</td>\n",
       "      <td>0</td>\n",
       "    </tr>\n",
       "  </tbody>\n",
       "</table>\n",
       "<p>181628 rows × 21 columns</p>\n",
       "</div>"
      ],
      "text/plain": [
       "              customer   country application       width product_ref  \\\n",
       "0      30156308.000000 28.000000   10.000000 1500.000000  1670798778   \n",
       "1      30202938.000000 25.000000   41.000000 1210.000000  1668701718   \n",
       "2      30153963.000000 30.000000   28.000000  952.000000      628377   \n",
       "3      30349574.000000 32.000000   59.000000 1317.000000  1668701718   \n",
       "4      30211560.000000 28.000000   10.000000 2000.000000      640665   \n",
       "...                ...       ...         ...         ...         ...   \n",
       "181667 30200854.000000 25.000000   41.000000 1240.000000   164141591   \n",
       "181668 30200854.000000 25.000000   41.000000 1220.000000   164141591   \n",
       "181669 30200854.000000 25.000000   41.000000 1500.000000   164141591   \n",
       "181670 30200854.000000 25.000000   41.000000 1250.000000   164141591   \n",
       "181672 30200854.000000 25.000000   41.000000 1240.000000   164141591   \n",
       "\n",
       "        log_thickness  log_quantity_tons  item type_Others  item type_PL  \\\n",
       "0            0.693147           3.991779                 0             0   \n",
       "1           -0.223144           6.643822                 0             0   \n",
       "2           -0.967584           5.956169                 0             0   \n",
       "3            0.832909           5.310301                 0             0   \n",
       "4            1.386294           6.666354                 0             0   \n",
       "...               ...                ...               ...           ...   \n",
       "181667      -0.040822           4.670802                 0             0   \n",
       "181668      -0.040822           4.629691                 0             0   \n",
       "181669      -0.051293           5.337954                 0             0   \n",
       "181670      -0.342490           1.443523                 0             0   \n",
       "181672      -0.342490           6.008043                 0             0   \n",
       "\n",
       "        item type_S  ...  item type_W  item type_WI  status_Lost  \\\n",
       "0                 0  ...            1             0            0   \n",
       "1                 0  ...            1             0            0   \n",
       "2                 0  ...            0             1            0   \n",
       "3                 1  ...            0             0            0   \n",
       "4                 0  ...            1             0            0   \n",
       "...             ...  ...          ...           ...          ...   \n",
       "181667            0  ...            1             0            0   \n",
       "181668            0  ...            1             0            0   \n",
       "181669            0  ...            1             0            0   \n",
       "181670            0  ...            1             0            0   \n",
       "181672            0  ...            1             0            0   \n",
       "\n",
       "        status_Not lost for AM  status_Offerable  status_Offered  \\\n",
       "0                            0                 0               0   \n",
       "1                            0                 0               0   \n",
       "2                            0                 0               0   \n",
       "3                            0                 0               0   \n",
       "4                            0                 0               0   \n",
       "...                        ...               ...             ...   \n",
       "181667                       0                 0               0   \n",
       "181668                       0                 0               0   \n",
       "181669                       0                 0               0   \n",
       "181670                       0                 0               0   \n",
       "181672                       0                 0               0   \n",
       "\n",
       "        status_Revised  status_To be approved  status_Won  status_Wonderful  \n",
       "0                    0                      0           1                 0  \n",
       "1                    0                      0           1                 0  \n",
       "2                    0                      0           1                 0  \n",
       "3                    0                      0           1                 0  \n",
       "4                    0                      0           1                 0  \n",
       "...                ...                    ...         ...               ...  \n",
       "181667               0                      0           1                 0  \n",
       "181668               0                      0           1                 0  \n",
       "181669               0                      0           1                 0  \n",
       "181670               0                      0           1                 0  \n",
       "181672               0                      0           1                 0  \n",
       "\n",
       "[181628 rows x 21 columns]"
      ]
     },
     "execution_count": 25,
     "metadata": {},
     "output_type": "execute_result"
    }
   ],
   "source": [
    "# Use pd.get_dummies to one-hot encode the 'item type' and 'status' columns with 0 and 1\n",
    "inputs_encoded = pd.get_dummies(inputs, columns=['item type', 'status'], drop_first=True, dtype=int)\n",
    "inputs_encoded\n",
    "\n"
   ]
  },
  {
   "cell_type": "code",
   "execution_count": null,
   "id": "d947a19b",
   "metadata": {},
   "outputs": [],
   "source": []
  },
  {
   "cell_type": "markdown",
   "id": "25671bd5",
   "metadata": {},
   "source": [
    "### Defining Scalar"
   ]
  },
  {
   "cell_type": "code",
   "execution_count": 51,
   "id": "5519083a",
   "metadata": {},
   "outputs": [
    {
     "data": {
      "text/html": [
       "<style>#sk-container-id-2 {color: black;}#sk-container-id-2 pre{padding: 0;}#sk-container-id-2 div.sk-toggleable {background-color: white;}#sk-container-id-2 label.sk-toggleable__label {cursor: pointer;display: block;width: 100%;margin-bottom: 0;padding: 0.3em;box-sizing: border-box;text-align: center;}#sk-container-id-2 label.sk-toggleable__label-arrow:before {content: \"▸\";float: left;margin-right: 0.25em;color: #696969;}#sk-container-id-2 label.sk-toggleable__label-arrow:hover:before {color: black;}#sk-container-id-2 div.sk-estimator:hover label.sk-toggleable__label-arrow:before {color: black;}#sk-container-id-2 div.sk-toggleable__content {max-height: 0;max-width: 0;overflow: hidden;text-align: left;background-color: #f0f8ff;}#sk-container-id-2 div.sk-toggleable__content pre {margin: 0.2em;color: black;border-radius: 0.25em;background-color: #f0f8ff;}#sk-container-id-2 input.sk-toggleable__control:checked~div.sk-toggleable__content {max-height: 200px;max-width: 100%;overflow: auto;}#sk-container-id-2 input.sk-toggleable__control:checked~label.sk-toggleable__label-arrow:before {content: \"▾\";}#sk-container-id-2 div.sk-estimator input.sk-toggleable__control:checked~label.sk-toggleable__label {background-color: #d4ebff;}#sk-container-id-2 div.sk-label input.sk-toggleable__control:checked~label.sk-toggleable__label {background-color: #d4ebff;}#sk-container-id-2 input.sk-hidden--visually {border: 0;clip: rect(1px 1px 1px 1px);clip: rect(1px, 1px, 1px, 1px);height: 1px;margin: -1px;overflow: hidden;padding: 0;position: absolute;width: 1px;}#sk-container-id-2 div.sk-estimator {font-family: monospace;background-color: #f0f8ff;border: 1px dotted black;border-radius: 0.25em;box-sizing: border-box;margin-bottom: 0.5em;}#sk-container-id-2 div.sk-estimator:hover {background-color: #d4ebff;}#sk-container-id-2 div.sk-parallel-item::after {content: \"\";width: 100%;border-bottom: 1px solid gray;flex-grow: 1;}#sk-container-id-2 div.sk-label:hover label.sk-toggleable__label {background-color: #d4ebff;}#sk-container-id-2 div.sk-serial::before {content: \"\";position: absolute;border-left: 1px solid gray;box-sizing: border-box;top: 0;bottom: 0;left: 50%;z-index: 0;}#sk-container-id-2 div.sk-serial {display: flex;flex-direction: column;align-items: center;background-color: white;padding-right: 0.2em;padding-left: 0.2em;position: relative;}#sk-container-id-2 div.sk-item {position: relative;z-index: 1;}#sk-container-id-2 div.sk-parallel {display: flex;align-items: stretch;justify-content: center;background-color: white;position: relative;}#sk-container-id-2 div.sk-item::before, #sk-container-id-2 div.sk-parallel-item::before {content: \"\";position: absolute;border-left: 1px solid gray;box-sizing: border-box;top: 0;bottom: 0;left: 50%;z-index: -1;}#sk-container-id-2 div.sk-parallel-item {display: flex;flex-direction: column;z-index: 1;position: relative;background-color: white;}#sk-container-id-2 div.sk-parallel-item:first-child::after {align-self: flex-end;width: 50%;}#sk-container-id-2 div.sk-parallel-item:last-child::after {align-self: flex-start;width: 50%;}#sk-container-id-2 div.sk-parallel-item:only-child::after {width: 0;}#sk-container-id-2 div.sk-dashed-wrapped {border: 1px dashed gray;margin: 0 0.4em 0.5em 0.4em;box-sizing: border-box;padding-bottom: 0.4em;background-color: white;}#sk-container-id-2 div.sk-label label {font-family: monospace;font-weight: bold;display: inline-block;line-height: 1.2em;}#sk-container-id-2 div.sk-label-container {text-align: center;}#sk-container-id-2 div.sk-container {/* jupyter's `normalize.less` sets `[hidden] { display: none; }` but bootstrap.min.css set `[hidden] { display: none !important; }` so we also need the `!important` here to be able to override the default hidden behavior on the sphinx rendered scikit-learn.org. See: https://github.com/scikit-learn/scikit-learn/issues/21755 */display: inline-block !important;position: relative;}#sk-container-id-2 div.sk-text-repr-fallback {display: none;}</style><div id=\"sk-container-id-2\" class=\"sk-top-container\"><div class=\"sk-text-repr-fallback\"><pre>StandardScaler()</pre><b>In a Jupyter environment, please rerun this cell to show the HTML representation or trust the notebook. <br />On GitHub, the HTML representation is unable to render, please try loading this page with nbviewer.org.</b></div><div class=\"sk-container\" hidden><div class=\"sk-item\"><div class=\"sk-estimator sk-toggleable\"><input class=\"sk-toggleable__control sk-hidden--visually\" id=\"sk-estimator-id-2\" type=\"checkbox\" checked><label for=\"sk-estimator-id-2\" class=\"sk-toggleable__label sk-toggleable__label-arrow\">StandardScaler</label><div class=\"sk-toggleable__content\"><pre>StandardScaler()</pre></div></div></div></div></div>"
      ],
      "text/plain": [
       "StandardScaler()"
      ]
     },
     "execution_count": 51,
     "metadata": {},
     "output_type": "execute_result"
    }
   ],
   "source": [
    "# Create a scaler object\n",
    "scaler1 = StandardScaler()\n",
    "# Fit the inputs (calculate the mean and standard deviation feature-wise)\n",
    "scaler1.fit(inputs_encoded)"
   ]
  },
  {
   "cell_type": "code",
   "execution_count": 52,
   "id": "b0e31a81",
   "metadata": {},
   "outputs": [],
   "source": [
    "# Scale the features and store them in a new variable (the actual scaling procedure)\n",
    "inputs_scaled = scaler1.transform(inputs_encoded)"
   ]
  },
  {
   "cell_type": "markdown",
   "id": "7887a3f7",
   "metadata": {},
   "source": [
    "### Defining Training and Testing"
   ]
  },
  {
   "cell_type": "code",
   "execution_count": 53,
   "id": "c4760361",
   "metadata": {},
   "outputs": [],
   "source": [
    "# Split the variables with an 80-20 split and some random state\n",
    "# To have the same split, use random_state = integer of your desire\n",
    "x_train, x_test, y_train, y_test = train_test_split(inputs_scaled, targets, test_size=0.2, random_state=42)"
   ]
  },
  {
   "cell_type": "markdown",
   "id": "18f76a4d",
   "metadata": {},
   "source": [
    "### Creating a Model - Decision Tree Regressor "
   ]
  },
  {
   "cell_type": "markdown",
   "id": "f989e265",
   "metadata": {},
   "source": [
    "Using Decision Tree Regressor because our model is Non- Linear and Our out put is Numerical"
   ]
  },
  {
   "cell_type": "code",
   "execution_count": 54,
   "id": "64f7cd88",
   "metadata": {},
   "outputs": [],
   "source": [
    "# Create a DecisionTreeRegressor\n",
    "dtr = DecisionTreeRegressor()\n",
    "\n",
    "# Define the hyperparameter grid\n",
    "param_grid = {\n",
    "    'max_depth': [3, 5, 7, 10],\n",
    "    'min_samples_split': [2, 5, 10],\n",
    "    'min_samples_leaf': [1, 5, 10],\n",
    "    'max_features': ['sqrt', 'log2', None]\n",
    "}\n",
    "\n",
    "# Create the GridSearchCV object\n",
    "grid_search = GridSearchCV(estimator=dtr, param_grid=param_grid, cv=5)\n",
    "\n",
    "# Fit the GridSearchCV object to your data\n",
    "grid_search.fit(x_train, y_train)\n",
    "\n",
    "# Get the best hyperparameters\n",
    "best_params = grid_search.best_params_\n",
    "\n",
    "# Get the best model\n",
    "best_model = grid_search.best_estimator_\n",
    "\n",
    "target_prediction = best_model.predict(x_test)\n"
   ]
  },
  {
   "cell_type": "markdown",
   "id": "bae051b3",
   "metadata": {},
   "source": [
    "#### Evaluvation Metrics"
   ]
  },
  {
   "cell_type": "code",
   "execution_count": 56,
   "id": "16a79826",
   "metadata": {},
   "outputs": [
    {
     "name": "stdout",
     "output_type": "stream",
     "text": [
      "Mean squared error: 0.03520524543817602\n",
      "R-squared: 0.8920692329388679\n"
     ]
    }
   ],
   "source": [
    "mse = mean_squared_error(y_test, target_prediction)\n",
    "r2 = r2_score(y_test, target_prediction)\n",
    "print('Mean squared error:', mse)\n",
    "print('R-squared:', r2)"
   ]
  },
  {
   "cell_type": "markdown",
   "id": "a02c4bfc",
   "metadata": {},
   "source": [
    "### Checking the prediction"
   ]
  },
  {
   "cell_type": "code",
   "execution_count": 55,
   "id": "b20ab2e4",
   "metadata": {},
   "outputs": [
    {
     "name": "stdout",
     "output_type": "stream",
     "text": [
      "Predicted selling price: [638.34390965]\n"
     ]
    },
    {
     "name": "stderr",
     "output_type": "stream",
     "text": [
      "/Users/santhoshsivansundaramoorthy/anaconda3/lib/python3.11/site-packages/sklearn/base.py:464: UserWarning: X does not have valid feature names, but StandardScaler was fitted with feature names\n",
      "  warnings.warn(\n"
     ]
    }
   ],
   "source": [
    "# Get the sample as a NumPy array\n",
    "sample = inputs_encoded.iloc[4].to_numpy()\n",
    "\n",
    "# Reshape the sample to a 2D array\n",
    "sample = sample.reshape(1, -1)\n",
    "sample_scaled = scaler1.transform(sample)\n",
    "sample_Predict = best_model.predict(sample_scaled)\n",
    "print('Predicted selling price:', np.exp(sample_Predict))"
   ]
  },
  {
   "cell_type": "code",
   "execution_count": 47,
   "id": "899bd0e2",
   "metadata": {},
   "outputs": [
    {
     "data": {
      "text/plain": [
       "(21,)"
      ]
     },
     "execution_count": 47,
     "metadata": {},
     "output_type": "execute_result"
    }
   ],
   "source": [
    "sample.shape"
   ]
  },
  {
   "cell_type": "markdown",
   "id": "344e9530",
   "metadata": {},
   "source": [
    "## Output is categorical"
   ]
  },
  {
   "cell_type": "code",
   "execution_count": 57,
   "id": "89dbbd75",
   "metadata": {},
   "outputs": [],
   "source": [
    "w_l_data = data_outliers[data_outliers['status'].isin(['Won', 'Lost'])]"
   ]
  },
  {
   "cell_type": "code",
   "execution_count": 58,
   "id": "15d37d32",
   "metadata": {},
   "outputs": [
    {
     "data": {
      "text/plain": [
       "(150433, 13)"
      ]
     },
     "execution_count": 58,
     "metadata": {},
     "output_type": "execute_result"
    }
   ],
   "source": [
    "w_l_data.shape"
   ]
  },
  {
   "cell_type": "markdown",
   "id": "15fd7bbd",
   "metadata": {},
   "source": [
    "### Defining Depedent and indepedent Variable"
   ]
  },
  {
   "cell_type": "code",
   "execution_count": 59,
   "id": "e50a9a74",
   "metadata": {},
   "outputs": [],
   "source": [
    "target_category = w_l_data['status']\n",
    "depedent_Variable = w_l_data.drop(['selling_price', 'quantity tons', 'thickness', 'status'],axis=1)"
   ]
  },
  {
   "cell_type": "markdown",
   "id": "87d5b14b",
   "metadata": {},
   "source": [
    "### Creating Dummies and scaling it"
   ]
  },
  {
   "cell_type": "code",
   "execution_count": 60,
   "id": "98e34bef",
   "metadata": {},
   "outputs": [
    {
     "data": {
      "text/html": [
       "<div>\n",
       "<style scoped>\n",
       "    .dataframe tbody tr th:only-of-type {\n",
       "        vertical-align: middle;\n",
       "    }\n",
       "\n",
       "    .dataframe tbody tr th {\n",
       "        vertical-align: top;\n",
       "    }\n",
       "\n",
       "    .dataframe thead th {\n",
       "        text-align: right;\n",
       "    }\n",
       "</style>\n",
       "<table border=\"1\" class=\"dataframe\">\n",
       "  <thead>\n",
       "    <tr style=\"text-align: right;\">\n",
       "      <th></th>\n",
       "      <th>customer</th>\n",
       "      <th>country</th>\n",
       "      <th>application</th>\n",
       "      <th>width</th>\n",
       "      <th>product_ref</th>\n",
       "      <th>log_thickness</th>\n",
       "      <th>log_selling_price</th>\n",
       "      <th>log_quantity_tons</th>\n",
       "      <th>item type_Others</th>\n",
       "      <th>item type_PL</th>\n",
       "      <th>item type_S</th>\n",
       "      <th>item type_SLAWR</th>\n",
       "      <th>item type_W</th>\n",
       "      <th>item type_WI</th>\n",
       "    </tr>\n",
       "  </thead>\n",
       "  <tbody>\n",
       "    <tr>\n",
       "      <th>0</th>\n",
       "      <td>30156308.000000</td>\n",
       "      <td>28.000000</td>\n",
       "      <td>10.000000</td>\n",
       "      <td>1500.000000</td>\n",
       "      <td>1670798778</td>\n",
       "      <td>0.693147</td>\n",
       "      <td>6.749931</td>\n",
       "      <td>3.991779</td>\n",
       "      <td>0</td>\n",
       "      <td>0</td>\n",
       "      <td>0</td>\n",
       "      <td>0</td>\n",
       "      <td>1</td>\n",
       "      <td>0</td>\n",
       "    </tr>\n",
       "    <tr>\n",
       "      <th>1</th>\n",
       "      <td>30202938.000000</td>\n",
       "      <td>25.000000</td>\n",
       "      <td>41.000000</td>\n",
       "      <td>1210.000000</td>\n",
       "      <td>1668701718</td>\n",
       "      <td>-0.223144</td>\n",
       "      <td>6.953684</td>\n",
       "      <td>6.643822</td>\n",
       "      <td>0</td>\n",
       "      <td>0</td>\n",
       "      <td>0</td>\n",
       "      <td>0</td>\n",
       "      <td>1</td>\n",
       "      <td>0</td>\n",
       "    </tr>\n",
       "    <tr>\n",
       "      <th>2</th>\n",
       "      <td>30153963.000000</td>\n",
       "      <td>30.000000</td>\n",
       "      <td>28.000000</td>\n",
       "      <td>952.000000</td>\n",
       "      <td>628377</td>\n",
       "      <td>-0.967584</td>\n",
       "      <td>6.468211</td>\n",
       "      <td>5.956169</td>\n",
       "      <td>0</td>\n",
       "      <td>0</td>\n",
       "      <td>0</td>\n",
       "      <td>0</td>\n",
       "      <td>0</td>\n",
       "      <td>1</td>\n",
       "    </tr>\n",
       "    <tr>\n",
       "      <th>3</th>\n",
       "      <td>30349574.000000</td>\n",
       "      <td>32.000000</td>\n",
       "      <td>59.000000</td>\n",
       "      <td>1317.000000</td>\n",
       "      <td>1668701718</td>\n",
       "      <td>0.832909</td>\n",
       "      <td>6.643790</td>\n",
       "      <td>5.310301</td>\n",
       "      <td>0</td>\n",
       "      <td>0</td>\n",
       "      <td>1</td>\n",
       "      <td>0</td>\n",
       "      <td>0</td>\n",
       "      <td>0</td>\n",
       "    </tr>\n",
       "    <tr>\n",
       "      <th>4</th>\n",
       "      <td>30211560.000000</td>\n",
       "      <td>28.000000</td>\n",
       "      <td>10.000000</td>\n",
       "      <td>2000.000000</td>\n",
       "      <td>640665</td>\n",
       "      <td>1.386294</td>\n",
       "      <td>6.357842</td>\n",
       "      <td>6.666354</td>\n",
       "      <td>0</td>\n",
       "      <td>0</td>\n",
       "      <td>0</td>\n",
       "      <td>0</td>\n",
       "      <td>1</td>\n",
       "      <td>0</td>\n",
       "    </tr>\n",
       "    <tr>\n",
       "      <th>...</th>\n",
       "      <td>...</td>\n",
       "      <td>...</td>\n",
       "      <td>...</td>\n",
       "      <td>...</td>\n",
       "      <td>...</td>\n",
       "      <td>...</td>\n",
       "      <td>...</td>\n",
       "      <td>...</td>\n",
       "      <td>...</td>\n",
       "      <td>...</td>\n",
       "      <td>...</td>\n",
       "      <td>...</td>\n",
       "      <td>...</td>\n",
       "      <td>...</td>\n",
       "    </tr>\n",
       "    <tr>\n",
       "      <th>181667</th>\n",
       "      <td>30200854.000000</td>\n",
       "      <td>25.000000</td>\n",
       "      <td>41.000000</td>\n",
       "      <td>1240.000000</td>\n",
       "      <td>164141591</td>\n",
       "      <td>-0.040822</td>\n",
       "      <td>6.400257</td>\n",
       "      <td>4.670802</td>\n",
       "      <td>0</td>\n",
       "      <td>0</td>\n",
       "      <td>0</td>\n",
       "      <td>0</td>\n",
       "      <td>1</td>\n",
       "      <td>0</td>\n",
       "    </tr>\n",
       "    <tr>\n",
       "      <th>181668</th>\n",
       "      <td>30200854.000000</td>\n",
       "      <td>25.000000</td>\n",
       "      <td>41.000000</td>\n",
       "      <td>1220.000000</td>\n",
       "      <td>164141591</td>\n",
       "      <td>-0.040822</td>\n",
       "      <td>6.381816</td>\n",
       "      <td>4.629691</td>\n",
       "      <td>0</td>\n",
       "      <td>0</td>\n",
       "      <td>0</td>\n",
       "      <td>0</td>\n",
       "      <td>1</td>\n",
       "      <td>0</td>\n",
       "    </tr>\n",
       "    <tr>\n",
       "      <th>181669</th>\n",
       "      <td>30200854.000000</td>\n",
       "      <td>25.000000</td>\n",
       "      <td>41.000000</td>\n",
       "      <td>1500.000000</td>\n",
       "      <td>164141591</td>\n",
       "      <td>-0.051293</td>\n",
       "      <td>6.378426</td>\n",
       "      <td>5.337954</td>\n",
       "      <td>0</td>\n",
       "      <td>0</td>\n",
       "      <td>0</td>\n",
       "      <td>0</td>\n",
       "      <td>1</td>\n",
       "      <td>0</td>\n",
       "    </tr>\n",
       "    <tr>\n",
       "      <th>181670</th>\n",
       "      <td>30200854.000000</td>\n",
       "      <td>25.000000</td>\n",
       "      <td>41.000000</td>\n",
       "      <td>1250.000000</td>\n",
       "      <td>164141591</td>\n",
       "      <td>-0.342490</td>\n",
       "      <td>6.428105</td>\n",
       "      <td>1.443523</td>\n",
       "      <td>0</td>\n",
       "      <td>0</td>\n",
       "      <td>0</td>\n",
       "      <td>0</td>\n",
       "      <td>1</td>\n",
       "      <td>0</td>\n",
       "    </tr>\n",
       "    <tr>\n",
       "      <th>181672</th>\n",
       "      <td>30200854.000000</td>\n",
       "      <td>25.000000</td>\n",
       "      <td>41.000000</td>\n",
       "      <td>1240.000000</td>\n",
       "      <td>164141591</td>\n",
       "      <td>-0.342490</td>\n",
       "      <td>6.408529</td>\n",
       "      <td>6.008043</td>\n",
       "      <td>0</td>\n",
       "      <td>0</td>\n",
       "      <td>0</td>\n",
       "      <td>0</td>\n",
       "      <td>1</td>\n",
       "      <td>0</td>\n",
       "    </tr>\n",
       "  </tbody>\n",
       "</table>\n",
       "<p>150433 rows × 14 columns</p>\n",
       "</div>"
      ],
      "text/plain": [
       "              customer   country application       width product_ref  \\\n",
       "0      30156308.000000 28.000000   10.000000 1500.000000  1670798778   \n",
       "1      30202938.000000 25.000000   41.000000 1210.000000  1668701718   \n",
       "2      30153963.000000 30.000000   28.000000  952.000000      628377   \n",
       "3      30349574.000000 32.000000   59.000000 1317.000000  1668701718   \n",
       "4      30211560.000000 28.000000   10.000000 2000.000000      640665   \n",
       "...                ...       ...         ...         ...         ...   \n",
       "181667 30200854.000000 25.000000   41.000000 1240.000000   164141591   \n",
       "181668 30200854.000000 25.000000   41.000000 1220.000000   164141591   \n",
       "181669 30200854.000000 25.000000   41.000000 1500.000000   164141591   \n",
       "181670 30200854.000000 25.000000   41.000000 1250.000000   164141591   \n",
       "181672 30200854.000000 25.000000   41.000000 1240.000000   164141591   \n",
       "\n",
       "        log_thickness  log_selling_price  log_quantity_tons  item type_Others  \\\n",
       "0            0.693147           6.749931           3.991779                 0   \n",
       "1           -0.223144           6.953684           6.643822                 0   \n",
       "2           -0.967584           6.468211           5.956169                 0   \n",
       "3            0.832909           6.643790           5.310301                 0   \n",
       "4            1.386294           6.357842           6.666354                 0   \n",
       "...               ...                ...                ...               ...   \n",
       "181667      -0.040822           6.400257           4.670802                 0   \n",
       "181668      -0.040822           6.381816           4.629691                 0   \n",
       "181669      -0.051293           6.378426           5.337954                 0   \n",
       "181670      -0.342490           6.428105           1.443523                 0   \n",
       "181672      -0.342490           6.408529           6.008043                 0   \n",
       "\n",
       "        item type_PL  item type_S  item type_SLAWR  item type_W  item type_WI  \n",
       "0                  0            0                0            1             0  \n",
       "1                  0            0                0            1             0  \n",
       "2                  0            0                0            0             1  \n",
       "3                  0            1                0            0             0  \n",
       "4                  0            0                0            1             0  \n",
       "...              ...          ...              ...          ...           ...  \n",
       "181667             0            0                0            1             0  \n",
       "181668             0            0                0            1             0  \n",
       "181669             0            0                0            1             0  \n",
       "181670             0            0                0            1             0  \n",
       "181672             0            0                0            1             0  \n",
       "\n",
       "[150433 rows x 14 columns]"
      ]
     },
     "execution_count": 60,
     "metadata": {},
     "output_type": "execute_result"
    }
   ],
   "source": [
    "depedent_Variable_encoded = pd.get_dummies(depedent_Variable, columns=['item type'], drop_first=True, dtype=int)\n",
    "depedent_Variable_encoded"
   ]
  },
  {
   "cell_type": "code",
   "execution_count": 79,
   "id": "67853add",
   "metadata": {
    "scrolled": false
   },
   "outputs": [],
   "source": [
    "scaler2 = StandardScaler()  # Change this line to use 'scaler2'\n",
    "scaler2.fit(depedent_Variable_encoded)  # Change this line as well\n",
    "depedent_Variable_Scaled = scaler2.transform(depedent_Variable_encoded)  # Use 'scaler2' here\n"
   ]
  },
  {
   "cell_type": "markdown",
   "id": "d2fd3e73",
   "metadata": {},
   "source": [
    "### Defining Training and Testing"
   ]
  },
  {
   "cell_type": "code",
   "execution_count": 37,
   "id": "8d80d035",
   "metadata": {},
   "outputs": [],
   "source": [
    "X_train, X_test, Y_train, Y_test = train_test_split(depedent_Variable_Scaled, target_category, test_size=0.2, random_state=30)"
   ]
  },
  {
   "cell_type": "markdown",
   "id": "4b99f36f",
   "metadata": {},
   "source": [
    "### Creating a Model - Decision Tree Classifier \n",
    "Using Decision Tree Classifier because our model is Non- Linear and Our out put is Categorical"
   ]
  },
  {
   "cell_type": "code",
   "execution_count": 38,
   "id": "9815d5e3",
   "metadata": {},
   "outputs": [],
   "source": [
    "dtc = DecisionTreeClassifier()\n",
    "dtc.fit(X_train, Y_train)\n",
    "Predicted_target = dtc.predict(X_test)"
   ]
  },
  {
   "cell_type": "markdown",
   "id": "eb45a835",
   "metadata": {},
   "source": [
    "#### Evaluvation Matrics"
   ]
  },
  {
   "cell_type": "code",
   "execution_count": 39,
   "id": "c6a1439a",
   "metadata": {},
   "outputs": [
    {
     "data": {
      "text/plain": [
       "0.9143483896699571"
      ]
     },
     "execution_count": 39,
     "metadata": {},
     "output_type": "execute_result"
    }
   ],
   "source": [
    "accuracy = accuracy_score(Y_test, Predicted_target)\n",
    "accuracy"
   ]
  },
  {
   "cell_type": "code",
   "execution_count": 40,
   "id": "38d793b1",
   "metadata": {},
   "outputs": [
    {
     "data": {
      "text/plain": [
       "array([[ 5392,  1265],\n",
       "       [ 1312, 22118]])"
      ]
     },
     "execution_count": 40,
     "metadata": {},
     "output_type": "execute_result"
    }
   ],
   "source": [
    "confussion_matrix_data = confusion_matrix(Y_test,Predicted_target)\n",
    "confussion_matrix_data"
   ]
  },
  {
   "cell_type": "markdown",
   "id": "5519ec91",
   "metadata": {},
   "source": [
    "### Checking the prediction"
   ]
  },
  {
   "cell_type": "code",
   "execution_count": 80,
   "id": "f765f4cd",
   "metadata": {},
   "outputs": [
    {
     "name": "stdout",
     "output_type": "stream",
     "text": [
      "Status: ['Won']\n"
     ]
    },
    {
     "name": "stderr",
     "output_type": "stream",
     "text": [
      "/Users/santhoshsivansundaramoorthy/anaconda3/lib/python3.11/site-packages/sklearn/base.py:464: UserWarning: X does not have valid feature names, but StandardScaler was fitted with feature names\n",
      "  warnings.warn(\n"
     ]
    }
   ],
   "source": [
    "# Get the sample as a NumPy array\n",
    "sample_categorical = depedent_Variable_encoded.iloc[3].to_numpy()\n",
    "\n",
    "# Reshape the sample to a 2D array\n",
    "sample_categorical = sample_categorical.reshape(1, -1)\n",
    "sample_scaled_cat = scaler2.transform(sample_categorical)\n",
    "sample_Predict_cat = dtc.predict(sample_scaled_cat)\n",
    "print('Status:', sample_Predict_cat)"
   ]
  },
  {
   "cell_type": "code",
   "execution_count": 84,
   "id": "98ce05a3",
   "metadata": {},
   "outputs": [
    {
     "data": {
      "text/plain": [
       "Index(['customer', 'country', 'application', 'width', 'product_ref',\n",
       "       'log_thickness', 'log_selling_price', 'log_quantity_tons',\n",
       "       'item type_Others', 'item type_PL', 'item type_S', 'item type_SLAWR',\n",
       "       'item type_W', 'item type_WI'],\n",
       "      dtype='object')"
      ]
     },
     "execution_count": 84,
     "metadata": {},
     "output_type": "execute_result"
    }
   ],
   "source": [
    "depedent_Variable_encoded.columns"
   ]
  },
  {
   "cell_type": "code",
   "execution_count": 87,
   "id": "f5bfd3a9",
   "metadata": {},
   "outputs": [
    {
     "data": {
      "text/plain": [
       "0.1"
      ]
     },
     "execution_count": 87,
     "metadata": {},
     "output_type": "execute_result"
    }
   ],
   "source": [
    "w_l_data['selling_price'].min()"
   ]
  },
  {
   "cell_type": "code",
   "execution_count": null,
   "id": "805e4f5a",
   "metadata": {},
   "outputs": [],
   "source": []
  },
  {
   "cell_type": "markdown",
   "id": "96dea2d6",
   "metadata": {},
   "source": [
    "## Saving the Model"
   ]
  },
  {
   "cell_type": "code",
   "execution_count": 81,
   "id": "36196a5b",
   "metadata": {},
   "outputs": [
    {
     "data": {
      "text/plain": [
       "['scaler_cat.joblib']"
      ]
     },
     "execution_count": 81,
     "metadata": {},
     "output_type": "execute_result"
    }
   ],
   "source": [
    "\n",
    "# Saving the Model Reg\n",
    "model_Reg_filename = 'model_reg.joblib'\n",
    "joblib.dump(best_model, model_Reg_filename)\n",
    "\n",
    "# Saving the Scaler\n",
    "scaler_filename = 'scaler_reg.joblib'\n",
    "joblib.dump(scaler1, scaler_filename)\n",
    "\n",
    "# Saving the Model cat\n",
    "model_cat_filename = 'model_Cat.joblib'\n",
    "joblib.dump(dtc, model_cat_filename)\n",
    "\n",
    "# Saving the Scaler_cat\n",
    "scaler_filename = 'scaler_cat.joblib'\n",
    "joblib.dump(scaler2, scaler_filename)\n"
   ]
  }
 ],
 "metadata": {
  "kernelspec": {
   "display_name": "Python 3 (ipykernel)",
   "language": "python",
   "name": "python3"
  },
  "language_info": {
   "codemirror_mode": {
    "name": "ipython",
    "version": 3
   },
   "file_extension": ".py",
   "mimetype": "text/x-python",
   "name": "python",
   "nbconvert_exporter": "python",
   "pygments_lexer": "ipython3",
   "version": "3.11.4"
  }
 },
 "nbformat": 4,
 "nbformat_minor": 5
}
